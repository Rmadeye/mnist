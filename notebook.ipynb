{
 "cells": [
  {
   "cell_type": "code",
   "execution_count": 2,
   "metadata": {},
   "outputs": [],
   "source": [
    "import pandas as pd\n",
    "import numpy as np\n",
    "import torch\n",
    "from PIL import Image"
   ]
  },
  {
   "cell_type": "code",
   "execution_count": 2,
   "metadata": {},
   "outputs": [],
   "source": [
    "d = pd.read_csv('./data/input/train.csv')\n",
    "d = d.loc[(d.label == 0) | (d.label == 1)]\n",
    "d.reset_index(drop=True, inplace=True)\n",
    "y = d.label\n",
    "X = d.drop('label', axis=1).values\n",
    "# X[X > 0] = 1\n",
    "\n",
    "\n",
    "X = torch.tensor(X.reshape(-1, 28, 28))/255"
   ]
  },
  {
   "cell_type": "code",
   "execution_count": 10,
   "metadata": {},
   "outputs": [
    {
     "data": {
      "text/plain": [
       "array([1, 2])"
      ]
     },
     "execution_count": 10,
     "metadata": {},
     "output_type": "execute_result"
    }
   ],
   "source": [
    "d  = np.array([[1,3,2],\n",
    "               [4,5,6]])\n",
    "d.argmax(axis=1)"
   ]
  },
  {
   "cell_type": "code",
   "execution_count": 16,
   "metadata": {},
   "outputs": [
    {
     "data": {
      "text/plain": [
       "{0: 0.5, 1: 0.4}"
      ]
     },
     "execution_count": 16,
     "metadata": {},
     "output_type": "execute_result"
    }
   ],
   "source": [
    "from collections import defaultdict\n",
    "class Monitor:\n",
    "    # batch: dict(loss = 0, acc = 0)\n",
    "\n",
    "    def __init__(self):\n",
    "        self.data = dict(loss = list(), acc = list(), bestacc = list(), \n",
    "                         bestepoch = list(), bestmodel = list())\n",
    "\n",
    "    @staticmethod\n",
    "    def calculate_batch_accuracy(y, y_pred):\n",
    "        return (y == y_pred).sum()/len(y)\n",
    "\n",
    "    def show_last(self, measure: str):\n",
    "        return self.data[measure][-1]\n",
    "    \n",
    "    def track_history(self, measure: str):\n",
    "        return {epoch: value for epoch, value in enumerate(self.data[measure])}\n",
    "        \n",
    "m = Monitor()\n",
    "m.data['loss'].append(0.5)\n",
    "m.data['loss'].append(0.4)\n",
    "m.track_history('loss')"
   ]
  },
  {
   "cell_type": "code",
   "execution_count": 4,
   "metadata": {},
   "outputs": [],
   "source": [
    "from torch.utils.data import Dataset, DataLoader\n",
    "from typing import Optional, Tuple, List\n",
    "\n",
    "class MnistDataset(Dataset):    \n",
    "    def __init__(self, X, y, digits=Optional[List[int]]):\n",
    "        self.X = X\n",
    "        self.y = y\n",
    "        \n",
    "    def __len__(self):\n",
    "        return len(self.X)\n",
    "    \n",
    "    def __getitem__(self, idx):\n",
    "        return self.X[idx], self.y[idx]\n",
    "    \n",
    "\n",
    "def prepare_data(X, y, batch_size):\n",
    "    dataset = MnistDataset(X, y, digits=digits)\n",
    "    loader = DataLoader(dataset, batch_size=batch_size, shuffle=False)\n",
    "    return loader\n"
   ]
  },
  {
   "cell_type": "code",
   "execution_count": 5,
   "metadata": {},
   "outputs": [
    {
     "data": {
      "text/plain": [
       "<function __main__.prepare_data(X, y, batch_size)>"
      ]
     },
     "execution_count": 5,
     "metadata": {},
     "output_type": "execute_result"
    }
   ],
   "source": [
    "prepare_data"
   ]
  },
  {
   "cell_type": "code",
   "execution_count": 6,
   "metadata": {},
   "outputs": [
    {
     "ename": "NameError",
     "evalue": "name 'digits' is not defined",
     "output_type": "error",
     "traceback": [
      "\u001b[0;31m---------------------------------------------------------------------------\u001b[0m",
      "\u001b[0;31mNameError\u001b[0m                                 Traceback (most recent call last)",
      "Cell \u001b[0;32mIn[6], line 21\u001b[0m\n\u001b[1;32m     19\u001b[0m batch_size \u001b[38;5;241m=\u001b[39m \u001b[38;5;241m100\u001b[39m\n\u001b[1;32m     20\u001b[0m \u001b[38;5;66;03m# digits = False\u001b[39;00m\n\u001b[0;32m---> 21\u001b[0m train_loader \u001b[38;5;241m=\u001b[39m \u001b[43mprepare_data\u001b[49m\u001b[43m(\u001b[49m\u001b[43mX\u001b[49m\u001b[43m,\u001b[49m\u001b[43m \u001b[49m\u001b[43my\u001b[49m\u001b[43m,\u001b[49m\u001b[43m \u001b[49m\u001b[43mbatch_size\u001b[49m\u001b[43m)\u001b[49m\n\u001b[1;32m     23\u001b[0m \u001b[38;5;66;03m# train model\u001b[39;00m\n\u001b[1;32m     24\u001b[0m n_epochs \u001b[38;5;241m=\u001b[39m \u001b[38;5;241m5\u001b[39m\n",
      "Cell \u001b[0;32mIn[4], line 17\u001b[0m, in \u001b[0;36mprepare_data\u001b[0;34m(X, y, batch_size)\u001b[0m\n\u001b[1;32m     16\u001b[0m \u001b[38;5;28;01mdef\u001b[39;00m \u001b[38;5;21mprepare_data\u001b[39m(X, y, batch_size):\n\u001b[0;32m---> 17\u001b[0m     dataset \u001b[38;5;241m=\u001b[39m MnistDataset(X, y, digits\u001b[38;5;241m=\u001b[39m\u001b[43mdigits\u001b[49m)\n\u001b[1;32m     18\u001b[0m     loader \u001b[38;5;241m=\u001b[39m DataLoader(dataset, batch_size\u001b[38;5;241m=\u001b[39mbatch_size, shuffle\u001b[38;5;241m=\u001b[39m\u001b[38;5;28;01mFalse\u001b[39;00m)\n\u001b[1;32m     19\u001b[0m     \u001b[38;5;28;01mreturn\u001b[39;00m loader\n",
      "\u001b[0;31mNameError\u001b[0m: name 'digits' is not defined"
     ]
    }
   ],
   "source": [
    "class ConvNet(torch.nn.Module):\n",
    "    def __init__(self, *args, **kwargs) -> None:\n",
    "        super().__init__(*args, **kwargs)\n",
    "        self.conv1 = torch.nn.Conv2d(1, 32, kernel_size=3, stride=1, padding=1)\n",
    "        self.fc1 = torch.nn.Linear(28*28*32, 1)\n",
    "\n",
    "    def forward(self, x):\n",
    "        x = torch.nn.functional.relu(self.conv1(x))\n",
    "        x = x.view(-1, 28*28*32)\n",
    "        x = torch.sigmoid(self.fc1(x))\n",
    "        return x\n",
    "    \n",
    "# generate simple model \n",
    "model = ConvNet()\n",
    "criterion = torch.nn.BCELoss()\n",
    "optimizer = torch.optim.Adam(model.parameters(), lr=0.001)\n",
    "\n",
    "# prepare data\n",
    "batch_size = 100\n",
    "# digits = False\n",
    "train_loader = prepare_data(X, y, batch_size)\n",
    "\n",
    "# train model\n",
    "n_epochs = 5\n",
    "for epoch in range(n_epochs):\n",
    "    for i, (X_batch, y_batch) in enumerate(train_loader):\n",
    "        y_pred = model(X_batch)\n",
    "        loss = criterion(y_pred, y_batch.float().view(-1, 1))\n",
    "        optimizer.zero_grad()\n",
    "        loss.backward()\n",
    "        optimizer.step()\n",
    "        if i % 100 == 0:\n",
    "            print(f'Epoch {epoch}, loss: {loss.item()}')\n",
    "    "
   ]
  },
  {
   "cell_type": "code",
   "execution_count": null,
   "metadata": {},
   "outputs": [],
   "source": []
  }
 ],
 "metadata": {
  "kernelspec": {
   "display_name": "data",
   "language": "python",
   "name": "python3"
  },
  "language_info": {
   "codemirror_mode": {
    "name": "ipython",
    "version": 3
   },
   "file_extension": ".py",
   "mimetype": "text/x-python",
   "name": "python",
   "nbconvert_exporter": "python",
   "pygments_lexer": "ipython3",
   "version": "3.11.5"
  }
 },
 "nbformat": 4,
 "nbformat_minor": 2
}
